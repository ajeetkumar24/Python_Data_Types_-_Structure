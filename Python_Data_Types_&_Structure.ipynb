{
  "nbformat": 4,
  "nbformat_minor": 0,
  "metadata": {
    "colab": {
      "provenance": []
    },
    "kernelspec": {
      "name": "python3",
      "display_name": "Python 3"
    },
    "language_info": {
      "name": "python"
    }
  },
  "cells": [
    {
      "cell_type": "code",
      "source": [
        "#1 Discuss string slicing and provide examples ?"
      ],
      "metadata": {
        "id": "k4Rxa8D1-h_s"
      },
      "execution_count": null,
      "outputs": []
    },
    {
      "cell_type": "markdown",
      "source": [
        "String slicing in Python is a way to extract a portion of a string by specifying a start and end index. The syntax for string slicing is string[start:end]. The start index is inclusive, meaning the character at that index is included in the sliced string, while the end index is exclusive, meaning the character at that index is not included"
      ],
      "metadata": {
        "id": "YdZsbVx2_XFV"
      }
    },
    {
      "cell_type": "markdown",
      "source": [
        "Here are some examples of string slicing:\n"
      ],
      "metadata": {
        "id": "uCSwUuNZ_wqN"
      }
    },
    {
      "cell_type": "code",
      "source": [
        "string[start:end]\n",
        "# Start: The Index where the slice begins (inclusive)\n",
        "# end: The index where the slice end (exclusive)\n"
      ],
      "metadata": {
        "id": "89LuUGNeCHhk"
      },
      "execution_count": null,
      "outputs": []
    },
    {
      "cell_type": "code",
      "source": [
        "a = \"Ajeetkumar\"\n",
        "a"
      ],
      "metadata": {
        "colab": {
          "base_uri": "https://localhost:8080/",
          "height": 35
        },
        "id": "pL0sbdaHIT4j",
        "outputId": "d0d94e92-06dc-4a50-bf0f-77ff95133df0"
      },
      "execution_count": null,
      "outputs": [
        {
          "output_type": "execute_result",
          "data": {
            "text/plain": [
              "'Ajeetkumar'"
            ],
            "application/vnd.google.colaboratory.intrinsic+json": {
              "type": "string"
            }
          },
          "metadata": {},
          "execution_count": 31
        }
      ]
    },
    {
      "cell_type": "code",
      "source": [
        "a[0]"
      ],
      "metadata": {
        "colab": {
          "base_uri": "https://localhost:8080/",
          "height": 35
        },
        "id": "AzgABFkWIt68",
        "outputId": "76853f06-82a2-4f2b-c7cd-03bcfbd03140"
      },
      "execution_count": null,
      "outputs": [
        {
          "output_type": "execute_result",
          "data": {
            "text/plain": [
              "'A'"
            ],
            "application/vnd.google.colaboratory.intrinsic+json": {
              "type": "string"
            }
          },
          "metadata": {},
          "execution_count": 32
        }
      ]
    },
    {
      "cell_type": "code",
      "source": [
        "a[-1]"
      ],
      "metadata": {
        "colab": {
          "base_uri": "https://localhost:8080/",
          "height": 35
        },
        "id": "VLnahPPUIw0p",
        "outputId": "12d0862a-82d8-425d-bc46-bb0c63890adc"
      },
      "execution_count": null,
      "outputs": [
        {
          "output_type": "execute_result",
          "data": {
            "text/plain": [
              "'r'"
            ],
            "application/vnd.google.colaboratory.intrinsic+json": {
              "type": "string"
            }
          },
          "metadata": {},
          "execution_count": 39
        }
      ]
    },
    {
      "cell_type": "code",
      "source": [
        "a[-2]"
      ],
      "metadata": {
        "colab": {
          "base_uri": "https://localhost:8080/",
          "height": 35
        },
        "id": "UtkG1v_UI1B_",
        "outputId": "fcdc7f41-2a73-4ab3-dd89-4904b8ea888d"
      },
      "execution_count": null,
      "outputs": [
        {
          "output_type": "execute_result",
          "data": {
            "text/plain": [
              "'a'"
            ],
            "application/vnd.google.colaboratory.intrinsic+json": {
              "type": "string"
            }
          },
          "metadata": {},
          "execution_count": 40
        }
      ]
    },
    {
      "cell_type": "code",
      "source": [
        "a[:5]"
      ],
      "metadata": {
        "colab": {
          "base_uri": "https://localhost:8080/",
          "height": 35
        },
        "id": "WvoLR8JII5S_",
        "outputId": "b1f771db-9fdb-4c83-c52c-2db2198766d8"
      },
      "execution_count": null,
      "outputs": [
        {
          "output_type": "execute_result",
          "data": {
            "text/plain": [
              "'Ajeet'"
            ],
            "application/vnd.google.colaboratory.intrinsic+json": {
              "type": "string"
            }
          },
          "metadata": {},
          "execution_count": 35
        }
      ]
    },
    {
      "cell_type": "markdown",
      "source": [
        "I can also use negative indices to count positions from the end of the string. For example, a[-1] refers to the last character, and a[-2] refers to the second last"
      ],
      "metadata": {
        "id": "_jDone-OKR_y"
      }
    },
    {
      "cell_type": "markdown",
      "source": [
        "String slicing is useful for extracting portions of a string based on specific program requirements. For example, I can use string slicing to remove redundant parts of a string\n"
      ],
      "metadata": {
        "id": "B7zWQUOnKprN"
      }
    },
    {
      "cell_type": "code",
      "source": [],
      "metadata": {
        "id": "OhH8LOmnKvOL"
      },
      "execution_count": null,
      "outputs": []
    },
    {
      "cell_type": "code",
      "source": [],
      "metadata": {
        "id": "tsyoRbcApXyw"
      },
      "execution_count": null,
      "outputs": []
    },
    {
      "cell_type": "code",
      "source": [],
      "metadata": {
        "id": "KXUBb1O5KvFL"
      },
      "execution_count": null,
      "outputs": []
    },
    {
      "cell_type": "code",
      "source": [
        "#2 Explain the key features of lists in Python ?"
      ],
      "metadata": {
        "id": "EdvPOc9LKvBm"
      },
      "execution_count": null,
      "outputs": []
    },
    {
      "cell_type": "markdown",
      "source": [
        "Key features of lists in Python:  \n",
        "\n",
        "*Ordered: Lists maintain the order of elements as they are inserted.\n",
        "\n",
        "*Mutable: I can modify, add, or remove elements after the list is created.\n",
        "\n",
        "*Heterogeneous: Lists can contain elements of different data types (e.g., integers, strings, floats, even other lists).\n",
        "\n",
        "*Dynamic: Lists can grow or shrink in size as needed.\n",
        "\n",
        "*Indexed Access: Elements can be accessed using their index, starting from 0 for the first element. Negative indexing allows access from the end of the list.\n",
        "\n",
        "*Slicing: I can extract a portion of the list using slicing.\n",
        "\n",
        "*Iterable: I can iterate over the elements of a list using loops.\n",
        "\n",
        "*Duplicate Elements: Lists can contain duplicate elements.\n",
        "\n",
        "*Built-in Methods: Python provides several built-in methods for working with lists (e.g., append(), remove(), pop(), sort(), reverse()).\n",
        "\n",
        "*Nesting: Lists can contain other lists, creating nested data structures"
      ],
      "metadata": {
        "id": "7C3mxw6ahJNZ"
      }
    },
    {
      "cell_type": "code",
      "source": [],
      "metadata": {
        "id": "0VElGxOipUjt"
      },
      "execution_count": null,
      "outputs": []
    },
    {
      "cell_type": "code",
      "source": [],
      "metadata": {
        "id": "EEVb8TggpUgE"
      },
      "execution_count": null,
      "outputs": []
    },
    {
      "cell_type": "code",
      "source": [],
      "metadata": {
        "id": "95x26_MspUL3"
      },
      "execution_count": null,
      "outputs": []
    },
    {
      "cell_type": "code",
      "source": [
        "# 3 Describe how to access modify and delete elements in a list with examples?"
      ],
      "metadata": {
        "id": "rdFtjb-vhjoh"
      },
      "execution_count": null,
      "outputs": []
    },
    {
      "cell_type": "markdown",
      "source": [
        "To access, modify, and delete elements in a list, I primarily use indexing to pinpoint specific elements, then utilize methods like assignment (=), pop() to remove elements, and remove() to delete elements by value in most programming languages, like Python, here are a few examples:\n"
      ],
      "metadata": {
        "id": "8i9NLH_uihaq"
      }
    },
    {
      "cell_type": "markdown",
      "source": [
        "1. Accessing elements:\n",
        "\n",
        "Using index:\n",
        "           \n",
        "           To access an element at a specific position (index) in a list, use square brackets with the index number (remember that indexing starts at 0).\n"
      ],
      "metadata": {
        "id": "_XubEQhBiwqS"
      }
    },
    {
      "cell_type": "code",
      "source": [
        "   my_list = [\"apple\", \"banana\", \"cherry\"]\n",
        "\n",
        "   my_list[1] = \"mango\"\n",
        "\n",
        "   print(my_list)  # Outputs: [\"apple\", \"mango\", \"cherry\"]\n"
      ],
      "metadata": {
        "id": "9hnBkjC9n5zq"
      },
      "execution_count": null,
      "outputs": []
    },
    {
      "cell_type": "markdown",
      "source": [
        "2.  Deleting elements:\n",
        "\n",
        "del  keyword: To remove an element at a specific index, use the del keyword with the index.\n"
      ],
      "metadata": {
        "id": "PD36ivw4lPzT"
      }
    },
    {
      "cell_type": "code",
      "source": [
        "   my_list = [\"apple\", \"banana\", \"cherry\"]\n",
        "\n",
        "   del my_list[1]\n",
        "\n",
        "   print(my_list)  # Outputs: [\"apple\", \"cherry\"]\n"
      ],
      "metadata": {
        "id": "O3CgEvlaoAli"
      },
      "execution_count": null,
      "outputs": []
    },
    {
      "cell_type": "markdown",
      "source": [
        "pop() method: Removes and returns the element at a given index (default is the last element).\n"
      ],
      "metadata": {
        "id": "1ISvDeOboUSb"
      }
    },
    {
      "cell_type": "code",
      "source": [
        "   my_list = [\"apple\", \"banana\", \"cherry\"]\n",
        "\n",
        "   removed_fruit = my_list.pop(1)\n",
        "\n",
        "   print(my_list)  # Outputs: [\"apple\", \"cherry\"]\n",
        "\n",
        "   print(removed_fruit)  # Outputs: \"banana\"\n"
      ],
      "metadata": {
        "id": "e6o5Pfx3oYr8"
      },
      "execution_count": null,
      "outputs": []
    },
    {
      "cell_type": "markdown",
      "source": [
        "remove() method: Removes the first occurrence of a specified value from the list."
      ],
      "metadata": {
        "id": "p8RadHmCohfO"
      }
    },
    {
      "cell_type": "code",
      "source": [
        "   my_list = [\"apple\", \"banana\", \"cherry\", \"apple\"]\n",
        "\n",
        "   my_list.remove(\"apple\")\n",
        "\n",
        "   print(my_list)  # Outputs: [\"banana\", \"cherry\", \"apple\"]\n"
      ],
      "metadata": {
        "id": "6zDVJDLOoi9F"
      },
      "execution_count": null,
      "outputs": []
    },
    {
      "cell_type": "markdown",
      "source": [
        "Key points to remember:\n",
        "\n",
        "\n",
        "Index starts at 0:\n",
        "Always remember that indexing in lists starts at 0, so the first element is at index 0.\n",
        "\n",
        "\n",
        "Negative indexing:\n",
        "I can also access elements from the end of the list using negative indices (e.g., my_list[-1] for the last element).\n",
        "\n",
        "\n",
        "List methods:\n",
        "Explore other list methods like append() to add elements, insert() to insert at a specific position, count() to count occurrences of a value, etc.\n"
      ],
      "metadata": {
        "id": "UFxGEmliolql"
      }
    },
    {
      "cell_type": "code",
      "source": [],
      "metadata": {
        "id": "GlwiKRayovYy"
      },
      "execution_count": null,
      "outputs": []
    },
    {
      "cell_type": "code",
      "source": [],
      "metadata": {
        "id": "FCFhPtYVo5Od"
      },
      "execution_count": null,
      "outputs": []
    },
    {
      "cell_type": "code",
      "source": [],
      "metadata": {
        "id": "wJkZ0f4ro5Cf"
      },
      "execution_count": null,
      "outputs": []
    },
    {
      "cell_type": "code",
      "source": [
        "#4 Compare and contrast tuples and lists with examples ?"
      ],
      "metadata": {
        "id": "GCncc6HSo44m"
      },
      "execution_count": null,
      "outputs": []
    },
    {
      "cell_type": "markdown",
      "source": [
        "**List**\n",
        "\n",
        "      In Python, a list is a mutable, ordered collection of items. List can cntain items of different types and are defined usjing square brackets[].\n",
        "\n",
        "      * list are mutable\n",
        "      *The list is better for performing operations, such as insertion and deletion.\n",
        "      *Lists consume more memory\n",
        "       "
      ],
      "metadata": {
        "id": "Jbhs1PQ9qimS"
      }
    },
    {
      "cell_type": "code",
      "source": [
        "fruit_name = [\"mango\", \"orange\"]"
      ],
      "metadata": {
        "id": "7hr0QwHzvA6J"
      },
      "execution_count": null,
      "outputs": []
    },
    {
      "cell_type": "code",
      "source": [
        "fruit_name"
      ],
      "metadata": {
        "colab": {
          "base_uri": "https://localhost:8080/"
        },
        "id": "hwWohHTQvuPr",
        "outputId": "c3e8d721-e170-4619-e4d0-5debdc113033"
      },
      "execution_count": null,
      "outputs": [
        {
          "output_type": "execute_result",
          "data": {
            "text/plain": [
              "['mango', 'orange']"
            ]
          },
          "metadata": {},
          "execution_count": 41
        }
      ]
    },
    {
      "cell_type": "code",
      "source": [
        "fruit_name.append(\"papita\")"
      ],
      "metadata": {
        "id": "zLUdZ1PGwUUL"
      },
      "execution_count": null,
      "outputs": []
    },
    {
      "cell_type": "code",
      "source": [
        "fruit_name"
      ],
      "metadata": {
        "colab": {
          "base_uri": "https://localhost:8080/"
        },
        "id": "jkzU6pHZwp74",
        "outputId": "6b9662e4-3c0b-4da3-f93b-17bcbee6ecff"
      },
      "execution_count": null,
      "outputs": [
        {
          "output_type": "execute_result",
          "data": {
            "text/plain": [
              "['mango', 'orange', 'papita', 'papita', 'papita']"
            ]
          },
          "metadata": {},
          "execution_count": 46
        }
      ]
    },
    {
      "cell_type": "code",
      "source": [
        "fruit_name[0]"
      ],
      "metadata": {
        "colab": {
          "base_uri": "https://localhost:8080/",
          "height": 35
        },
        "id": "JOQGoaBdxSak",
        "outputId": "97599921-7e6f-4a03-a5cf-c0c9af34cc8a"
      },
      "execution_count": null,
      "outputs": [
        {
          "output_type": "execute_result",
          "data": {
            "text/plain": [
              "'mango'"
            ],
            "application/vnd.google.colaboratory.intrinsic+json": {
              "type": "string"
            }
          },
          "metadata": {},
          "execution_count": 48
        }
      ]
    },
    {
      "cell_type": "code",
      "source": [
        "fruit_name.append(\"Banana\")"
      ],
      "metadata": {
        "id": "eaG6nojixcaS"
      },
      "execution_count": null,
      "outputs": []
    },
    {
      "cell_type": "code",
      "source": [
        "fruit_name"
      ],
      "metadata": {
        "colab": {
          "base_uri": "https://localhost:8080/"
        },
        "id": "SVnEUjUix6gh",
        "outputId": "aab887b9-9df1-4ead-9fbf-d11ebc27d394"
      },
      "execution_count": null,
      "outputs": [
        {
          "output_type": "execute_result",
          "data": {
            "text/plain": [
              "['mango', 'orange', 'papita', 'papita', 'papita', 'Banana', 'Banana']"
            ]
          },
          "metadata": {},
          "execution_count": 52
        }
      ]
    },
    {
      "cell_type": "markdown",
      "source": [
        "# **Tuple**\n",
        "\n",
        "In Python, a tuple is an ordered, immutable collection of elements. This means that once a tuple is created, its elements cannot be changed, added, or removed.\n"
      ],
      "metadata": {
        "id": "xtheP2PxyD5O"
      }
    },
    {
      "cell_type": "code",
      "source": [
        "my_tuple = (1, 2, 2.5, \"Ajeet loves Satyajeet\")\n",
        "my_tuple"
      ],
      "metadata": {
        "colab": {
          "base_uri": "https://localhost:8080/"
        },
        "id": "48PM4h_9ymRS",
        "outputId": "c2c6b487-26b3-4415-c552-387420857cab"
      },
      "execution_count": null,
      "outputs": [
        {
          "output_type": "execute_result",
          "data": {
            "text/plain": [
              "(1, 2, 2.5, 'Ajeet loves Satyajeet')"
            ]
          },
          "metadata": {},
          "execution_count": 53
        }
      ]
    },
    {
      "cell_type": "markdown",
      "source": [
        "Explanation:\n",
        "The elements of a tuple are enclosed in parentheses ().\n",
        "Elements are separated by commas.\n",
        "Tuples can contain elements of different data types (e.g., integers, strings, floats).\n",
        "I can access elements of a tuple using indexing, just like lists. For example: my_tuple[0] will return 1"
      ],
      "metadata": {
        "id": "hNHV20b8zMXt"
      }
    },
    {
      "cell_type": "code",
      "source": [],
      "metadata": {
        "id": "Gxuj5Zbbzoxt"
      },
      "execution_count": null,
      "outputs": []
    },
    {
      "cell_type": "code",
      "source": [],
      "metadata": {
        "id": "9HGK6qi2zoWR"
      },
      "execution_count": null,
      "outputs": []
    },
    {
      "cell_type": "code",
      "source": [],
      "metadata": {
        "id": "SVgvEHJmzoOk"
      },
      "execution_count": null,
      "outputs": []
    },
    {
      "cell_type": "code",
      "source": [
        "#5 Describe the key features of sets and provide examples of their use?"
      ],
      "metadata": {
        "id": "wBPgRREWzoBs"
      },
      "execution_count": null,
      "outputs": []
    },
    {
      "cell_type": "markdown",
      "source": [
        "# **Set**\n",
        "\n",
        "Sets are used to store multiple items in a single variable.\n",
        "\n",
        "Set is one of 4 built-in data types in Python used to store collections of data, the other 3 are List, Tuple, and Dictionary, all with different qualities and usage.\n",
        "\n",
        "A set is a collection which is unordered, unchangeable, and unindexed.\n",
        "\n",
        "\n",
        "Sets are written with curly brackets{}.\n",
        "\n"
      ],
      "metadata": {
        "id": "YnfpuQYL0tbR"
      }
    },
    {
      "cell_type": "code",
      "source": [
        "thisset = {\"apple\", \"banana\", \"cherry\"}\n",
        "print(thisset)\n"
      ],
      "metadata": {
        "colab": {
          "base_uri": "https://localhost:8080/"
        },
        "id": "40KjPgv14d_h",
        "outputId": "0a92c718-cc7f-477d-fd39-fe5088f3c3a6"
      },
      "execution_count": null,
      "outputs": [
        {
          "output_type": "stream",
          "name": "stdout",
          "text": [
            "{'cherry', 'apple', 'banana'}\n"
          ]
        }
      ]
    },
    {
      "cell_type": "markdown",
      "source": [
        "**Set Items**\n",
        "Set items are unordered, unchangeable, and do not allow duplicate values.\n",
        "\n",
        "\n",
        "\n",
        "**Unordered**\n",
        "          Unordered means that the items in a set do not have a defined order.\n",
        "Set items can appear in a different order every time you use them, and cannot be referred to by index or key.\n",
        "\n",
        "\n",
        "\n",
        "**Unchangeable**\n",
        "Set items are unchangeable, meaning that we cannot change the items after the set has been created.\n",
        "\n",
        "\n",
        "\n",
        "**Duplicates Not Allowed**\n",
        "Sets cannot have two items with the same value.\n",
        "\n",
        "\n",
        "\n",
        "\n",
        "\n",
        "\n",
        "\n",
        "\n"
      ],
      "metadata": {
        "id": "TE-zrhFs41dy"
      }
    },
    {
      "cell_type": "code",
      "source": [
        "thisset = {\"apple\", \"banana\", \"cherry\", \"apple\"}\n",
        "\n",
        "print(thisset)\n"
      ],
      "metadata": {
        "colab": {
          "base_uri": "https://localhost:8080/"
        },
        "id": "73bVBvCN5kIz",
        "outputId": "4c4864b4-2a79-431d-de5b-660f096b68d5"
      },
      "execution_count": null,
      "outputs": [
        {
          "output_type": "stream",
          "name": "stdout",
          "text": [
            "{'cherry', 'apple', 'banana'}\n"
          ]
        }
      ]
    },
    {
      "cell_type": "markdown",
      "source": [
        "**Get the length of set**\n",
        "\n",
        "To determine how many items a set has, use the len() function.\n",
        "\n"
      ],
      "metadata": {
        "id": "S6rTtVQy5yot"
      }
    },
    {
      "cell_type": "code",
      "source": [
        "thisset = {\"apple\", \"banana\", \"cherry\"}\n",
        "\n",
        "print(len(thisset))\n"
      ],
      "metadata": {
        "colab": {
          "base_uri": "https://localhost:8080/"
        },
        "id": "3YidZ1ut5zic",
        "outputId": "b9a3c2d4-f183-4c15-d4ad-ca99507edb6f"
      },
      "execution_count": null,
      "outputs": [
        {
          "output_type": "stream",
          "name": "stdout",
          "text": [
            "3\n"
          ]
        }
      ]
    },
    {
      "cell_type": "markdown",
      "source": [
        "**Set Items - Data Types**\n",
        "\n",
        "\n",
        "Set items can be of any data type:\n",
        "\n"
      ],
      "metadata": {
        "id": "GYgscoas6LQh"
      }
    },
    {
      "cell_type": "code",
      "source": [
        "set1 = {\"apple\", \"banana\", \"cherry\"}\n",
        "set2 = {1, 5, 7, 9, 3}\n",
        "set3 = {True, False, False}\n",
        "set1\n",
        "set2\n",
        "set3"
      ],
      "metadata": {
        "colab": {
          "base_uri": "https://localhost:8080/"
        },
        "id": "qTYUJH726Qus",
        "outputId": "14341dcb-0df1-4033-9243-ca7f9df714c9"
      },
      "execution_count": null,
      "outputs": [
        {
          "output_type": "execute_result",
          "data": {
            "text/plain": [
              "{False, True}"
            ]
          },
          "metadata": {},
          "execution_count": 63
        }
      ]
    },
    {
      "cell_type": "markdown",
      "source": [
        "**type()**\n",
        "\n",
        "\n",
        "From Python's perspective, sets are defined as objects with the data type 'set':\n",
        "\n"
      ],
      "metadata": {
        "id": "DfvwJaGt6pmA"
      }
    },
    {
      "cell_type": "code",
      "source": [
        "myset = {\"apple\", \"banana\", \"cherry\"}\n",
        "print(type(myset))\n"
      ],
      "metadata": {
        "colab": {
          "base_uri": "https://localhost:8080/"
        },
        "id": "CR9iXKcq6yOy",
        "outputId": "bb85679a-3ec0-4d9c-d218-7c85a13163ed"
      },
      "execution_count": null,
      "outputs": [
        {
          "output_type": "stream",
          "name": "stdout",
          "text": [
            "<class 'set'>\n"
          ]
        }
      ]
    },
    {
      "cell_type": "code",
      "source": [],
      "metadata": {
        "id": "s1lvvHNG62cb"
      },
      "execution_count": null,
      "outputs": []
    },
    {
      "cell_type": "code",
      "source": [],
      "metadata": {
        "id": "g5KdwIFE7P6b"
      },
      "execution_count": null,
      "outputs": []
    },
    {
      "cell_type": "code",
      "source": [],
      "metadata": {
        "id": "zm-HaZC-7Ppz"
      },
      "execution_count": null,
      "outputs": []
    },
    {
      "cell_type": "code",
      "source": [
        "#6 Discuss the use cases of tuples and sets in Python Programming"
      ],
      "metadata": {
        "id": "QGXWoa1t7Pmq"
      },
      "execution_count": null,
      "outputs": []
    },
    {
      "cell_type": "markdown",
      "source": [
        "Tuples and sets are both essential data structures in Python, each offering unique advantages for specific use cases.\n",
        "\n",
        "\n",
        "# **Tuples:**\n",
        " **Immutable Data:**\n",
        "\n",
        "  Tuples are immutable, meaning their elements cannot be changed once created. This makes them ideal for storing data that shouldn't be modified, such as coordinates, database records, or configuration settings.\n",
        "\n",
        "\n",
        "**Representing Multiple Values:**\n",
        "\n",
        "Tuples can hold elements of different data types, making them useful for representing complex data structures. For example, a tuple can store a person's name (string), age (integer), and height (float).\n",
        "\n",
        "\n",
        "**Function Return Values:**\n",
        "\n",
        "Functions can return multiple values using tuples, allowing for clean and organized code\n",
        "\n",
        "\n",
        "**Dictionary Keys:**\n",
        "\n",
        "Tuples can be used as dictionary keys, unlike lists, as long as all the elements in the tuple are immutable.\n",
        "\n",
        "\n",
        "\n",
        "\n",
        "**Use Cases:**\n",
        "\n",
        "*Storing Coordinates:* Tuples are perfect for representing geographical coordinates (latitude, longitude) or 2D/3D points in a game.\n",
        "\n",
        "\n",
        "*Data Integrity:* When you need to ensure data remains unchanged throughout your program, tuples are the way to go.\n",
        "\n",
        "\n",
        "*Caching:* Tuples can be used to store cached data, ensuring its integrity.\n"
      ],
      "metadata": {
        "id": "oGyFQell7eD4"
      }
    },
    {
      "cell_type": "markdown",
      "source": [
        "# **Sets**:\n",
        "\n",
        "\n",
        "\n",
        "**Unique Elements:**\n",
        "\n",
        "Sets only store unique elements, making them excellent for removing duplicates from a list or checking if a specific element exists in a collection.\n",
        "\n",
        "\n",
        "**Mathematical Operations:**\n",
        "\n",
        "Sets support mathematical operations like union, intersection, difference, and symmetric difference, which are useful in various scenarios.\n",
        "\n",
        "\n",
        "**Membership Testing:**\n",
        "\n",
        "Checking if an element exists in a set is much faster than checking in a list due to the underlying implementation of sets (hash tables).\n",
        "\n",
        "\n",
        "\n",
        "\n",
        "\n",
        "\n",
        "**Use Cases:**\n",
        "\n",
        "  *Removing Duplicates:* Sets are the easiest way to remove duplicates from a list or other collections.\n",
        "\n",
        "\n",
        "  *Finding Common Elements:* Use sets to find the intersection of two collections.\n",
        "Checking for Membership: Efficiently check if an element is present in a collection.\n",
        "\n",
        "\n",
        "  *Implementing Graphs:* Sets can be used to represent nodes and edges in a graph structure.\n"
      ],
      "metadata": {
        "id": "ORRZUJkY88FX"
      }
    },
    {
      "cell_type": "code",
      "source": [],
      "metadata": {
        "id": "xmIZCgp59zvZ"
      },
      "execution_count": null,
      "outputs": []
    },
    {
      "cell_type": "code",
      "source": [],
      "metadata": {
        "id": "WTpf6yuG9z4Y"
      },
      "execution_count": null,
      "outputs": []
    },
    {
      "cell_type": "code",
      "source": [],
      "metadata": {
        "id": "Dx37YBV39z03"
      },
      "execution_count": null,
      "outputs": []
    },
    {
      "cell_type": "code",
      "source": [
        "#7d  Describe how to add, modify, and delete items in a dictionary with examples?"
      ],
      "metadata": {
        "id": "Iv_lg0qTjLEO"
      },
      "execution_count": null,
      "outputs": []
    },
    {
      "cell_type": "markdown",
      "source": [
        "To add items to a dictionary, use the assignment operator (=), specifying the key and the value I want to add within square brackets; to modify an existing item, simply access the key and assign a new value; and to delete an item, use the del keyword followed by the dictionary name and the key I want to remove."
      ],
      "metadata": {
        "id": "ifshGgecjw9b"
      }
    },
    {
      "cell_type": "code",
      "source": [
        "#Adding items to a dictionary in Python"
      ],
      "metadata": {
        "id": "6hXzzX_FqpoB"
      },
      "execution_count": null,
      "outputs": []
    },
    {
      "cell_type": "code",
      "source": [
        "my_inf = {\"Name\": \"Ajeet\" , \"Add\": \"Sasaram\" , \"Age\": 28}"
      ],
      "metadata": {
        "id": "NJKBkVH5nX3k"
      },
      "execution_count": 16,
      "outputs": []
    },
    {
      "cell_type": "code",
      "source": [
        "my_inf"
      ],
      "metadata": {
        "colab": {
          "base_uri": "https://localhost:8080/"
        },
        "id": "yKxhYv84o91c",
        "outputId": "5cf82006-543c-4c31-d2d8-567d9a42ff86"
      },
      "execution_count": 17,
      "outputs": [
        {
          "output_type": "execute_result",
          "data": {
            "text/plain": [
              "{'Name': 'Ajeet', 'Add': 'Sasaram', 'Age': 28}"
            ]
          },
          "metadata": {},
          "execution_count": 17
        }
      ]
    },
    {
      "cell_type": "code",
      "source": [
        "my_inf[\"language\"] = \"English\""
      ],
      "metadata": {
        "id": "Qeze3rnEpA-U"
      },
      "execution_count": 18,
      "outputs": []
    },
    {
      "cell_type": "code",
      "source": [
        "  print(my_inf)"
      ],
      "metadata": {
        "colab": {
          "base_uri": "https://localhost:8080/"
        },
        "id": "of4MgQKkqWfA",
        "outputId": "ca1ee4df-b434-4773-9fda-bb0bd0614760"
      },
      "execution_count": 19,
      "outputs": [
        {
          "output_type": "stream",
          "name": "stdout",
          "text": [
            "{'Name': 'Ajeet', 'Add': 'Sasaram', 'Age': 28, 'language': 'English'}\n"
          ]
        }
      ]
    },
    {
      "cell_type": "code",
      "source": [
        "# Modify an existing item\n"
      ],
      "metadata": {
        "id": "Z0-aNm-UrJFQ"
      },
      "execution_count": null,
      "outputs": []
    },
    {
      "cell_type": "code",
      "source": [
        "my_inf[\"language\"] = \"Hindi\""
      ],
      "metadata": {
        "id": "Mq3CzGO_qcZh"
      },
      "execution_count": 20,
      "outputs": []
    },
    {
      "cell_type": "code",
      "source": [
        "print(my_inf)"
      ],
      "metadata": {
        "colab": {
          "base_uri": "https://localhost:8080/"
        },
        "id": "96e3W9hgrDE9",
        "outputId": "cef0ba4c-1211-444c-aa3e-d73c26321ecc"
      },
      "execution_count": 21,
      "outputs": [
        {
          "output_type": "stream",
          "name": "stdout",
          "text": [
            "{'Name': 'Ajeet', 'Add': 'Sasaram', 'Age': 28, 'language': 'Hindi'}\n"
          ]
        }
      ]
    },
    {
      "cell_type": "code",
      "source": [
        "# Delete an item\n"
      ],
      "metadata": {
        "id": "3W4-fbfArP8N"
      },
      "execution_count": null,
      "outputs": []
    },
    {
      "cell_type": "code",
      "source": [
        "my_inf"
      ],
      "metadata": {
        "colab": {
          "base_uri": "https://localhost:8080/"
        },
        "id": "oWzJg1FTrT5B",
        "outputId": "c68b048b-8cc2-4383-fa17-217db706bdd2"
      },
      "execution_count": 22,
      "outputs": [
        {
          "output_type": "execute_result",
          "data": {
            "text/plain": [
              "{'Name': 'Ajeet', 'Add': 'Sasaram', 'Age': 28, 'language': 'Hindi'}"
            ]
          },
          "metadata": {},
          "execution_count": 22
        }
      ]
    },
    {
      "cell_type": "code",
      "source": [
        "del my_inf[\"Add\"]"
      ],
      "metadata": {
        "id": "WAlDjhBqrbI4"
      },
      "execution_count": 23,
      "outputs": []
    },
    {
      "cell_type": "code",
      "source": [
        "my_inf"
      ],
      "metadata": {
        "colab": {
          "base_uri": "https://localhost:8080/"
        },
        "id": "K1Mpa4GkrazE",
        "outputId": "755953b6-3ca6-4522-cf7c-65e3288444fd"
      },
      "execution_count": 24,
      "outputs": [
        {
          "output_type": "execute_result",
          "data": {
            "text/plain": [
              "{'Name': 'Ajeet', 'Age': 28, 'language': 'Hindi'}"
            ]
          },
          "metadata": {},
          "execution_count": 24
        }
      ]
    },
    {
      "cell_type": "markdown",
      "source": [
        "**Explanation:**\n",
        "\n",
        "*Adding:*\n",
        "\n",
        "  my_dict[\"key\"] = \"value\": This line adds a new key-value pair to the dictionary. If the key already exists, its value will be overwritten.\n",
        "\n",
        "\n",
        "*Modifying:*\n",
        "\n",
        "  my_dict[\"existing_key\"] = \"new_value\": Access an existing key using square brackets and assign a new value to it.\n",
        "\n",
        "\n",
        "*Deleting:*\n",
        "\n",
        "  del my_dict[\"key\"]: The del keyword removes the key-value pair associated with the specified key.\n"
      ],
      "metadata": {
        "id": "vgYNLRO0ryWo"
      }
    },
    {
      "cell_type": "code",
      "source": [],
      "metadata": {
        "id": "2wqlWKV8rsTn"
      },
      "execution_count": null,
      "outputs": []
    },
    {
      "cell_type": "markdown",
      "source": [
        "Key points to remember:  \n",
        "\n",
        "1.Dictionaries are unordered, meaning the items are not stored in a specific\n",
        "sequence.\n",
        "\n",
        "2.Keys must be unique within a dictionary.\n",
        "\n",
        "3.Attempting to access a non-existent key will result in a KeyError.\n"
      ],
      "metadata": {
        "id": "y6wUJWQTsJGl"
      }
    },
    {
      "cell_type": "code",
      "source": [],
      "metadata": {
        "id": "XhPfjNTrswJP"
      },
      "execution_count": null,
      "outputs": []
    },
    {
      "cell_type": "code",
      "source": [],
      "metadata": {
        "id": "Rk-N2xrsswVl"
      },
      "execution_count": null,
      "outputs": []
    },
    {
      "cell_type": "code",
      "source": [],
      "metadata": {
        "id": "wTWXJ5L-swSX"
      },
      "execution_count": null,
      "outputs": []
    },
    {
      "cell_type": "code",
      "source": [
        "#8 Discuss the importance of dictionary keys being immutable and provide examples?"
      ],
      "metadata": {
        "id": "eAzJ6_vYswPL"
      },
      "execution_count": null,
      "outputs": []
    },
    {
      "cell_type": "markdown",
      "source": [
        "In programming, dictionary keys must be immutable (meaning they cannot be changed after creation) because it is crucial for efficient lookups within the data structure. If keys were mutable, their hash values could change during runtime, making it impossible for the dictionary to reliably find the associated value based on the key, leading to unpredictable behavior and potential errors.\n",
        "\n",
        "\n",
        "\n",
        "\n",
        "\n",
        "\n",
        "\n",
        "   **Why Immutability Matters:**\n",
        "\n",
        "\n",
        "\n",
        "  **Hashing:**\n",
        "\n",
        "\n",
        "Dictionaries rely on hashing to quickly locate values based on their keys. When a key is immutable, its hash value remains constant, allowing the dictionary to efficiently calculate where to store the key-value pair and retrieve it later.\n",
        "\n",
        "\n",
        "**Consistency:**\n",
        "\n",
        "\n",
        "If a key could be changed, its associated value might become inaccessible if the original key is no longer valid, causing data integrity issues"
      ],
      "metadata": {
        "id": "UfmuSA4rtRzp"
      }
    },
    {
      "cell_type": "markdown",
      "source": [
        "Examples of Immutable Types Used as Dictionary Keys"
      ],
      "metadata": {
        "id": "QyoKsmyZuHRl"
      }
    },
    {
      "cell_type": "code",
      "source": [
        "#Strings"
      ],
      "metadata": {
        "id": "4chy_mp_uFk8"
      },
      "execution_count": null,
      "outputs": []
    },
    {
      "cell_type": "code",
      "source": [
        "    user_info = {\"name\": \"Ajeet\", \"age\": 30}"
      ],
      "metadata": {
        "id": "WmLb5tHvvMI1"
      },
      "execution_count": 27,
      "outputs": []
    },
    {
      "cell_type": "code",
      "source": [
        "  print(user_info) #Here, \"name\" and \"age\" are strings which cannot be directly modified, making them suitable as keys.\n"
      ],
      "metadata": {
        "colab": {
          "base_uri": "https://localhost:8080/"
        },
        "id": "y8myTljFvOuA",
        "outputId": "5ab819a9-b050-48f0-ddf0-00e21423791d"
      },
      "execution_count": 28,
      "outputs": [
        {
          "output_type": "stream",
          "name": "stdout",
          "text": [
            "{'name': 'Ajeet', 'age': 30}\n"
          ]
        }
      ]
    },
    {
      "cell_type": "code",
      "source": [
        "user_info[\"Ajeet\"] = \"Satyajeet\""
      ],
      "metadata": {
        "id": "ISW6Q5XbvgI4"
      },
      "execution_count": 29,
      "outputs": []
    },
    {
      "cell_type": "code",
      "source": [
        "print(user_info)"
      ],
      "metadata": {
        "colab": {
          "base_uri": "https://localhost:8080/"
        },
        "id": "d5ySMwZ3v36I",
        "outputId": "0ad085d1-a508-4563-9d02-43999b6df5c5"
      },
      "execution_count": 30,
      "outputs": [
        {
          "output_type": "stream",
          "name": "stdout",
          "text": [
            "{'name': 'Ajeet', 'age': 30, 'Ajeet': 'Satyajeet'}\n"
          ]
        }
      ]
    },
    {
      "cell_type": "code",
      "source": [
        "#Integers"
      ],
      "metadata": {
        "id": "Sxk6r76-wKzG"
      },
      "execution_count": null,
      "outputs": []
    },
    {
      "cell_type": "code",
      "source": [
        "product_prices = {101: 10.99, 202: 5.99}"
      ],
      "metadata": {
        "id": "FehNxDJ6wKp8"
      },
      "execution_count": 32,
      "outputs": []
    },
    {
      "cell_type": "code",
      "source": [
        "product_prices #Numbers like 101 and 202 are also immutable and can be used as keys.\n"
      ],
      "metadata": {
        "colab": {
          "base_uri": "https://localhost:8080/"
        },
        "id": "yXkB_fG_wQBN",
        "outputId": "bb50ff5b-d74e-4650-a871-4493dce9cc46"
      },
      "execution_count": 33,
      "outputs": [
        {
          "output_type": "execute_result",
          "data": {
            "text/plain": [
              "{101: 10.99, 202: 5.99}"
            ]
          },
          "metadata": {},
          "execution_count": 33
        }
      ]
    },
    {
      "cell_type": "code",
      "source": [
        "#Tuples"
      ],
      "metadata": {
        "id": "3v27vhWFwg6B"
      },
      "execution_count": null,
      "outputs": []
    },
    {
      "cell_type": "code",
      "source": [
        "values = {(\"x\", \"y\"): (10, 20)}"
      ],
      "metadata": {
        "id": "nTNFZapIwg00"
      },
      "execution_count": 35,
      "outputs": []
    },
    {
      "cell_type": "code",
      "source": [
        "values"
      ],
      "metadata": {
        "colab": {
          "base_uri": "https://localhost:8080/"
        },
        "id": "AmMmMqTbwgvz",
        "outputId": "39747edb-5d3e-4f70-a7c3-3333a488ef74"
      },
      "execution_count": 36,
      "outputs": [
        {
          "output_type": "execute_result",
          "data": {
            "text/plain": [
              "{('x', 'y'): (10, 20)}"
            ]
          },
          "metadata": {},
          "execution_count": 36
        }
      ]
    },
    {
      "cell_type": "code",
      "source": [
        "#Key Takeaways:\n",
        "\n",
        "Dictionary keys must be immutable to ensure efficient lookups based on hashing.\n",
        "\n",
        "Immutable types like strings, integers, and tuples are commonly used as dictionary keys.\n",
        "\n",
        "Attempting to use a mutable type as a key can result in unexpected errors due to potential changes in the key's hash value.\n"
      ],
      "metadata": {
        "id": "AjzMHXudwwDe"
      },
      "execution_count": null,
      "outputs": []
    }
  ]
}